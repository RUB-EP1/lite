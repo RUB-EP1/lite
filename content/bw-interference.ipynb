{
 "cells": [
  {
   "cell_type": "markdown",
   "metadata": {},
   "source": [
    "# Breit–Wigner interference"
   ]
  },
  {
   "cell_type": "markdown",
   "metadata": {},
   "source": [
    "This notebook is inspired by a talk by Robert about interference between amplitudes. As an illustrative example, we investigate how the intensity is influenced by a constant background term $C$:\n",
    "\n",
    "$$\n",
    "\\begin{array}{rcl}\n",
    "  I(m) &=& \\left|\\text{BW}(m) + C\\right|^2 \\\\\n",
    "  \\text{BW}(m) &=& \\frac{m_0\\Gamma_0}{m^2-m_0^2-im_0\\Gamma_0} \\\\\n",
    "  C &=& |C|e^{i\\phi}\n",
    "\\end{array}\n",
    "$$"
   ]
  },
  {
   "cell_type": "code",
   "execution_count": null,
   "metadata": {},
   "outputs": [],
   "source": [
    "%pip install -q ipympl"
   ]
  },
  {
   "cell_type": "code",
   "execution_count": null,
   "metadata": {
    "jupyter": {
     "source_hidden": true
    }
   },
   "outputs": [],
   "source": [
    "import ipywidgets as w\n",
    "import matplotlib.pyplot as plt\n",
    "import numpy as np\n",
    "from IPython.display import display"
   ]
  },
  {
   "cell_type": "code",
   "execution_count": null,
   "metadata": {},
   "outputs": [],
   "source": [
    "%config InlineBackend.figure_formats = ['svg']\n",
    "%matplotlib widget"
   ]
  },
  {
   "cell_type": "code",
   "execution_count": null,
   "metadata": {
    "jupyter": {
     "source_hidden": true
    }
   },
   "outputs": [],
   "source": [
    "sliders = {\n",
    "    \"m0\": w.FloatSlider(4.3, min=0.0, max=10.0, step=0.1, description=\"$m_0$\"),\n",
    "    \"Γ0\": w.FloatSlider(0.9, min=0.1, max=5.0, step=0.1, description=R\"$\\Gamma_0$\"),\n",
    "    \"c_mag\": w.FloatSlider(0.6, min=0, max=2, step=0.1, description=\"$|c|$\"),\n",
    "    \"phi\": w.FloatSlider(10, min=-180, max=180, step=5, description=R\"$\\phi$\"),\n",
    "}\n",
    "ui = w.VBox([\n",
    "    sliders[\"m0\"],\n",
    "    sliders[\"Γ0\"],\n",
    "    w.HBox([sliders[\"c_mag\"], sliders[\"phi\"]]),\n",
    "])"
   ]
  },
  {
   "cell_type": "code",
   "execution_count": null,
   "metadata": {
    "jupyter": {
     "source_hidden": true
    }
   },
   "outputs": [],
   "source": [
    "def update_plot(m0, Γ0, c_mag, phi):\n",
    "    global lines\n",
    "    c: float = c_mag * np.exp(1j * np.deg2rad(phi))\n",
    "    argand = breit_wigner(m_argand, m0, Γ0) + c\n",
    "    bw = breit_wigner(m, m0, Γ0)\n",
    "    signal = np.abs(bw) ** 2\n",
    "    total = np.abs(bw + c) ** 2\n",
    "    if lines is None:\n",
    "        lines = (\n",
    "            ax1.plot(argand.real, argand.imag, c=\"C0\", lw=2)[0],\n",
    "            ax1.plot([0, c.real], [0, c.imag], c=\"C1\", lw=1, ls=\"dotted\")[0],\n",
    "            ax1.scatter([c.real], [c.imag], c=\"C1\", lw=3),\n",
    "            ax2.plot(m, total, c=\"black\", lw=2, label=R\"$|\\text{BW} + C|^2$\")[0],\n",
    "            ax2.plot(m, signal, c=\"C0\", lw=2, ls=\"--\", label=R\"$|\\text{BW}|^2$\")[0],\n",
    "            ax2.axhline(c_mag**2, c=\"C1\", lw=1, ls=\"--\", label=R\"$|C|$\"),\n",
    "        )\n",
    "    else:\n",
    "        lines[0].set_data(argand.real, argand.imag)\n",
    "        lines[1].set_data([0, c.real], [0, c.imag])\n",
    "        lines[2].set_offsets([[c.real, c.imag]])\n",
    "        lines[3].set_data(m, total)\n",
    "        lines[4].set_data(m, signal)\n",
    "        lines[5].set_ydata([c_mag**2])\n",
    "    ax1.relim()\n",
    "    ax1.autoscale_view()\n",
    "    ax2.set_ylim(-0.3, max(1.8, 1.05 * max(signal.max(), total.max())))\n",
    "    fig.canvas.draw_idle()\n",
    "\n",
    "\n",
    "def breit_wigner(m, m0, Γ0):\n",
    "    return m0 * Γ0 / (m**2 - m0**2 + 1j * m0 * Γ0)\n",
    "\n",
    "\n",
    "m = np.linspace(0, 10, num=500)\n",
    "m_argand = np.linspace(0, 10, num=5_000)\n",
    "lines = None\n",
    "\n",
    "fig, axes = plt.subplots(1, 2, figsize=(12, 5))\n",
    "ax1, ax2 = axes\n",
    "for ax in axes:\n",
    "    ax.spines[\"left\"].set_position(\"zero\")\n",
    "    ax.spines[\"bottom\"].set_position(\"zero\")\n",
    "    ax.spines[\"top\"].set_visible(False)\n",
    "    ax.spines[\"right\"].set_visible(False)\n",
    "\n",
    "ax1.set_title(\"Argand plot\")\n",
    "ax1.set_xlabel(\"Real part\")\n",
    "ax1.set_ylabel(\"Imaginary part\")\n",
    "ax1.set_aspect(\"equal\", adjustable=\"datalim\")\n",
    "ax1.axhline(0, alpha=0)  # for scaling\n",
    "ax1.axvline(0, alpha=0)  # for scaling\n",
    "\n",
    "ax2.set_title(\"Intensity\")\n",
    "ax2.set_xlabel(\"$m$\")\n",
    "ax2.set_ylabel(R\"Intensity $|\\text{BW} + C|^2$\")\n",
    "\n",
    "output = w.interactive_output(update_plot, sliders)\n",
    "ax2.legend()\n",
    "fig.tight_layout()\n",
    "display(ui, output)"
   ]
  }
 ],
 "metadata": {
  "kernelspec": {
   "display_name": "Python 3 (ipykernel)",
   "language": "python",
   "name": "python3"
  },
  "language_info": {
   "codemirror_mode": {
    "name": "ipython",
    "version": 3
   },
   "file_extension": ".py",
   "mimetype": "text/x-python",
   "name": "python",
   "nbconvert_exporter": "python",
   "pygments_lexer": "ipython3",
   "version": "3.11.11"
  }
 },
 "nbformat": 4,
 "nbformat_minor": 4
}
