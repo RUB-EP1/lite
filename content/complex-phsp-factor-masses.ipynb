{
 "cells": [
  {
   "cell_type": "markdown",
   "metadata": {},
   "source": [
    "# Phase-space factor with complex decay masses"
   ]
  },
  {
   "cell_type": "code",
   "execution_count": null,
   "metadata": {
    "jupyter": {
     "source_hidden": true
    }
   },
   "outputs": [],
   "source": [
    "%config InlineBackend.figure_format = 'svg'\n",
    "import ipywidgets as w\n",
    "import matplotlib.pyplot as plt\n",
    "import numpy as np\n",
    "from IPython.display import display\n",
    "\n",
    "rub_blue = \"#17365c\"\n",
    "rub_green = \"#8dae10\""
   ]
  },
  {
   "cell_type": "markdown",
   "metadata": {},
   "source": [
    "To avoid a vertical cut between the threshold ($(m_1+m_2)^2$) and the pseudo-threshold ($(m_1-m_2)^2$), define the phase space factor as\n",
    "$$\n",
    "\\rho(s) = \\frac{\\sqrt{s-(m_1-m_2)^2}\\sqrt{s-(m_1+m_2)^2}}{s}\n",
    "\\,.\n",
    "$$"
   ]
  },
  {
   "cell_type": "code",
   "execution_count": null,
   "metadata": {},
   "outputs": [],
   "source": [
    "def rho(s, m1, m2):\n",
    "    return np.sqrt(s - (m1 - m2) ** 2) * np.sqrt(s - (m1 + m2) ** 2) / s"
   ]
  },
  {
   "cell_type": "markdown",
   "metadata": {},
   "source": [
    "If instead you use\n",
    "$$\n",
    "\\rho_\\text{wrong}(s) =\n",
    "\\frac{\\sqrt{\\left(s-(m_1-m_2)\\right)^2\\left(s-(m_1+m_2)^2\\right)}}{s}\n",
    "\\,,\n",
    "$$\n",
    "you get"
   ]
  },
  {
   "cell_type": "code",
   "execution_count": null,
   "metadata": {
    "jupyter": {
     "source_hidden": true
    }
   },
   "outputs": [],
   "source": [
    "%matplotlib inline\n",
    "\n",
    "\n",
    "def rho_wrong_cut(s, m1, m2):\n",
    "    return np.sqrt((s - (m1 - m2) ** 2) * (s - (m1 + m2) ** 2)) / s\n",
    "\n",
    "\n",
    "s = np.linspace(0, 1.2, num=200) + 1e-8j\n",
    "ma = 0.13957\n",
    "mb = 0.493677\n",
    "plt.rc(\"font\", size=14)\n",
    "fig, axes = plt.subplots(figsize=(5, 5), nrows=2, sharex=True)\n",
    "ax1, ax2 = axes\n",
    "for ax in axes:\n",
    "    ax.spines[\"left\"].set_position(\"zero\")\n",
    "    ax.spines[\"bottom\"].set_position(\"zero\")\n",
    "    ax.spines[\"right\"].set_color(\"none\")\n",
    "    ax.spines[\"top\"].set_color(\"none\")\n",
    "    ax.xaxis.set_ticks_position(\"bottom\")\n",
    "    ax.yaxis.set_ticks_position(\"left\")\n",
    "    ax.set_ylim(-0.5, 0.8)\n",
    "    ax.set_xticks([])\n",
    "    ax.set_yticks([])\n",
    "ax2.set_xlabel(R\"$s$\")\n",
    "ax1.set_ylabel(R\"$\\rho(s)$\")\n",
    "ax2.set_ylabel(R\"$\\rho_\\mathrm{wrong}(s)$\")\n",
    "ax1.plot(s.real, rho(s, ma, mb).real, color=rub_blue, label=R\"$\\Re\\,\\rho(s)$\")\n",
    "ax1.plot(s.real, rho(s, ma, mb).imag, color=rub_green, label=R\"$\\Im\\,\\rho(s)$\")\n",
    "ax2.plot(s.real, rho_wrong_cut(s, ma, mb).real, color=rub_blue, label=R\"$\\Re\\,\\rho(s)$\")\n",
    "ax2.plot(\n",
    "    s.real, rho_wrong_cut(s, ma, mb).imag, color=rub_green, label=R\"$\\Im\\,\\rho(s)$\"\n",
    ")\n",
    "ax1.legend()\n",
    "fig.tight_layout()\n",
    "plt.show(fig)"
   ]
  },
  {
   "cell_type": "markdown",
   "metadata": {},
   "source": [
    "We can take complex masses for the decay masses $m_1$ and $m_2$ in order to **mimic unstable decay products**."
   ]
  },
  {
   "cell_type": "code",
   "execution_count": null,
   "metadata": {
    "jupyter": {
     "source_hidden": true
    }
   },
   "outputs": [],
   "source": [
    "sliders = dict(\n",
    "    m1_real=w.FloatSlider(description=\"Re 𝑚₁\", value=0.8, min=0, max=2, step=0.01),\n",
    "    m1_imag=w.FloatSlider(description=\"Im 𝑚₁\", value=0, min=-1, max=+1, step=0.01),\n",
    "    m2_real=w.FloatSlider(description=\"Re 𝑚₂\", value=1.5, min=0, max=2, step=0.01),\n",
    "    m2_imag=w.FloatSlider(description=\"Im 𝑚₂\", value=0, min=-1, max=+1, step=0.01),\n",
    "    z_max=w.FloatSlider(description=\"𝑧 scale\", value=1, min=0.01, max=5, step=0.01),\n",
    "    y_scale=w.FloatSlider(description=\"𝑦 scale\", value=1, min=0.05, max=2, step=0.05),\n",
    ")\n",
    "UI = w.VBox([\n",
    "    w.HBox([sliders[\"m1_real\"], sliders[\"m1_imag\"]]),\n",
    "    w.HBox([sliders[\"m2_real\"], sliders[\"m2_imag\"]]),\n",
    "    w.HBox([sliders[\"z_max\"], sliders[\"y_scale\"]]),\n",
    "])"
   ]
  },
  {
   "cell_type": "code",
   "execution_count": null,
   "metadata": {
    "jupyter": {
     "source_hidden": true
    }
   },
   "outputs": [],
   "source": [
    "%matplotlib widget\n",
    "x_min, x_max = 0, 10\n",
    "y_max = 1\n",
    "x = np.linspace(x_min, x_max, num=300)\n",
    "X, Y = np.meshgrid(x, np.linspace(-y_max, +y_max, num=200))\n",
    "S = X + 1j * Y\n",
    "\n",
    "plt.rc(\"font\", size=7)\n",
    "fig, ax = plt.subplots(dpi=200, figsize=(4.2, 2.4), rasterized=True)\n",
    "fig.canvas.header_visible = False\n",
    "fig.canvas.toolbar_visible = False\n",
    "ax.set_xlabel(R\"$\\Re\\,s$\")\n",
    "ax.set_ylabel(R\"$\\Im\\,s$\")\n",
    "ax.set_ylim(-y_max, +y_max)\n",
    "ax.spines[\"left\"].set_position(\"zero\")\n",
    "ax.spines[\"bottom\"].set_position(\"zero\")\n",
    "ax.spines[\"right\"].set_color(\"none\")\n",
    "ax.spines[\"top\"].set_color(\"none\")\n",
    "ax.xaxis.set_ticks_position(\"bottom\")\n",
    "ax.yaxis.set_ticks_position(\"left\")\n",
    "\n",
    "\n",
    "def update_plot(m1_real, m1_imag, m2_real, m2_imag, z_max, y_scale):\n",
    "    m1 = complex(m1_real, m1_imag)\n",
    "    m2 = complex(m2_real, m2_imag)\n",
    "    Z = rho(S, m1, m2).imag\n",
    "    thr_min = (m1_real - m2_real) ** 2\n",
    "    thr_max = (m1_real + m2_real) ** 2\n",
    "    y = rho(x + 1e-8j, m1, m2)\n",
    "    y /= max(\n",
    "        np.nanmax(y[x > thr_min].real),\n",
    "        np.nanmax(y[x > thr_min].imag),\n",
    "    )\n",
    "    y *= 0.98 * y_scale\n",
    "    global lines, mesh\n",
    "    if mesh is None or lines is None:\n",
    "        lines = [\n",
    "            ax.axvline(thr_min, color=\"C0\", linestyle=\"dashed\", label=\"$(m_1-m_2)^2$\"),\n",
    "            ax.axvline(thr_max, color=\"C1\", linestyle=\"dashed\", label=\"$(m_1+m_2)^2$\"),\n",
    "            ax.plot(x, y.real, label=R\"$\\Re\\,\\rho(s)$\", color=rub_blue)[0],\n",
    "            ax.plot(x, y.imag, label=R\"$\\Im\\,\\rho(s)$\", color=rub_green)[0],\n",
    "        ]\n",
    "        mesh = ax.pcolormesh(X, Y, Z, cmap=\"coolwarm\", vmin=-z_max, vmax=+z_max)\n",
    "        fig.colorbar(mesh, ax=ax, label=R\"$\\Im\\,\\rho(s)$\", pad=0.03)\n",
    "    else:\n",
    "        for line, thr in zip(lines[:2], [thr_min, thr_max]):\n",
    "            line.set_xdata([thr])\n",
    "        for line, yi in zip(lines[2:], [y.real, y.imag]):\n",
    "            line.set_ydata(yi)\n",
    "        mesh.set_array(Z.ravel())\n",
    "        mesh.set_clim(-z_max, +z_max)\n",
    "    fig.canvas.draw_idle()\n",
    "\n",
    "\n",
    "lines = mesh = None\n",
    "OUTPUT = w.interactive_output(update_plot, controls=sliders)\n",
    "ax.legend(loc=\"lower right\")\n",
    "fig.tight_layout()\n",
    "display(UI, OUTPUT)"
   ]
  }
 ],
 "metadata": {
  "kernelspec": {
   "display_name": "Python 3 (ipykernel)",
   "language": "python",
   "name": "python3"
  },
  "language_info": {
   "codemirror_mode": {
    "name": "ipython",
    "version": 3
   },
   "file_extension": ".py",
   "mimetype": "text/x-python",
   "name": "python",
   "nbconvert_exporter": "python",
   "pygments_lexer": "ipython3",
   "version": "3.11.13"
  }
 },
 "nbformat": 4,
 "nbformat_minor": 4
}
